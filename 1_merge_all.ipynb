{
 "cells": [
  {
   "cell_type": "code",
   "execution_count": 5,
   "id": "340dbb0c",
   "metadata": {},
   "outputs": [
    {
     "name": "stderr",
     "output_type": "stream",
     "text": [
      "/home/toharhymes/anaconda3/lib/python3.11/site-packages/pandas/core/arrays/masked.py:60: UserWarning: Pandas requires version '1.3.6' or newer of 'bottleneck' (version '1.3.5' currently installed).\n",
      "  from pandas.core import (\n"
     ]
    }
   ],
   "source": [
    "import os\n",
    "import pandas as pd"
   ]
  },
  {
   "cell_type": "code",
   "execution_count": 18,
   "id": "42079984",
   "metadata": {},
   "outputs": [],
   "source": [
    "def process_arxiv_files(\n",
    "    directory_path=\"./\",\n",
    "    starts_with=\"0_arxiv_\",\n",
    "    ends_with=\".csv\",\n",
    "    output_file=\"0_arxiv.csv\",\n",
    "):\n",
    "    # Get a list of all files that match the pattern\n",
    "    file_list = [\n",
    "        file\n",
    "        for file in os.listdir(directory_path)\n",
    "        if file.startswith(starts_with) and file.endswith(ends_with)\n",
    "    ]\n",
    "\n",
    "    # If no files found, return a message\n",
    "    if not file_list:\n",
    "        return \"No files found matching the pattern.\"\n",
    "\n",
    "    # Read all the CSV files and set the first column as the index\n",
    "    dfs = [\n",
    "        pd.read_csv(os.path.join(directory_path, file), index_col=0)\n",
    "        for file in file_list\n",
    "    ]\n",
    "\n",
    "    # Concatenate all the DataFrames into one\n",
    "    combined_df = pd.concat(dfs, ignore_index=True)\n",
    "\n",
    "    # Get initial number of rows\n",
    "    initial_row_count = len(combined_df)\n",
    "    print(f\"Initial number of rows: {initial_row_count}\")\n",
    "\n",
    "    # Drop NaN values and duplicates\n",
    "    combined_df.drop_duplicates(inplace=True)\n",
    "\n",
    "    # Get final number of rows after cleaning\n",
    "    final_row_count = len(combined_df)\n",
    "    print(f\"Final number of rows after cleaning: {final_row_count}\")\n",
    "\n",
    "    # Save the final DataFrame to a CSV file\n",
    "    combined_df.to_csv(output_file, index=False)\n",
    "\n",
    "    return initial_row_count, final_row_count, output_file\n",
    "\n",
    "\n",
    "def process_all_files(directory_path=\"./data\", file_list=None, output_file=\"0_all.csv\"):\n",
    "    if file_list is None:\n",
    "        return \"No file list provided.\"\n",
    "\n",
    "    # Initialize an empty list to store dataframes\n",
    "    dfs = []\n",
    "\n",
    "    # Iterate over provided file list\n",
    "    for file in file_list:\n",
    "        file_path = os.path.join(directory_path, file)\n",
    "\n",
    "        # Read CSV, handle unnamed first column (either index or not)\n",
    "        df = pd.read_csv(file_path)\n",
    "        # Check if the first column is unnamed (index) and drop it if necessary\n",
    "        if df.columns[0] == \"Unnamed: 0\":\n",
    "            df.set_index(df.columns[0], inplace=True)\n",
    "        df.drop_duplicates(inplace=True)\n",
    "        print(file, df.shape)\n",
    "        display(df['source'].value_counts().reset_index(name='row_count').rename(columns={'index': 'source'}))\n",
    "        dfs.append(df)\n",
    "\n",
    "    # Concatenate all the DataFrames into one\n",
    "    combined_df = pd.concat(dfs, ignore_index=True)\n",
    "\n",
    "    # Get initial number of rows\n",
    "    initial_row_count = len(combined_df)\n",
    "    print(f\"Initial number of rows: {initial_row_count}\")\n",
    "\n",
    "    # Drop NaN values and duplicates\n",
    "    combined_df.drop_duplicates(inplace=True)\n",
    "\n",
    "    # Get final number of rows after cleaning\n",
    "    final_row_count = len(combined_df)\n",
    "    print(f\"Final number of rows after cleaning: {final_row_count}\")\n",
    "\n",
    "    # Save the final DataFrame to a CSV file\n",
    "    combined_df.to_csv(os.path.join(directory_path, output_file), index=False)\n",
    "\n",
    "    return initial_row_count, final_row_count, output_file"
   ]
  },
  {
   "cell_type": "markdown",
   "id": "05e35bf2",
   "metadata": {},
   "source": [
    "Since arxiv have limits of `1000` returned articles per query, sometimes, you need to specify queries (as it's implemented шт `0_fetch_arxiv.py`, however, if not everything was launched in one time, we can merge it afterwards:"
   ]
  },
  {
   "cell_type": "code",
   "execution_count": 2,
   "id": "172d559e",
   "metadata": {},
   "outputs": [],
   "source": [
    "from utils_fetch import start_date, end_date, query_terms_list, year_list, DATA_DIR"
   ]
  },
  {
   "cell_type": "code",
   "execution_count": 3,
   "id": "296d856c",
   "metadata": {},
   "outputs": [
    {
     "data": {
      "text/plain": [
       "'data'"
      ]
     },
     "execution_count": 3,
     "metadata": {},
     "output_type": "execute_result"
    }
   ],
   "source": [
    "DATA_DIR"
   ]
  },
  {
   "cell_type": "code",
   "execution_count": 6,
   "id": "6a552d43",
   "metadata": {},
   "outputs": [
    {
     "data": {
      "text/plain": [
       "'No files found matching the pattern.'"
      ]
     },
     "execution_count": 6,
     "metadata": {},
     "output_type": "execute_result"
    }
   ],
   "source": [
    "# Call the function and return the result\n",
    "process_arxiv_files(directory_path=DATA_DIR, \n",
    "                    starts_with='0_arxiv_', \n",
    "                    ends_with = '.csv',\n",
    "                    output_file=os.path.join(DATA_DIR, '0_arxiv.csv'))"
   ]
  },
  {
   "cell_type": "code",
   "execution_count": 19,
   "id": "e191d257",
   "metadata": {},
   "outputs": [
    {
     "name": "stdout",
     "output_type": "stream",
     "text": [
      "0_arxiv.csv (5972, 5)\n"
     ]
    },
    {
     "data": {
      "text/html": [
       "<div>\n",
       "<style scoped>\n",
       "    .dataframe tbody tr th:only-of-type {\n",
       "        vertical-align: middle;\n",
       "    }\n",
       "\n",
       "    .dataframe tbody tr th {\n",
       "        vertical-align: top;\n",
       "    }\n",
       "\n",
       "    .dataframe thead th {\n",
       "        text-align: right;\n",
       "    }\n",
       "</style>\n",
       "<table border=\"1\" class=\"dataframe\">\n",
       "  <thead>\n",
       "    <tr style=\"text-align: right;\">\n",
       "      <th></th>\n",
       "      <th>source</th>\n",
       "      <th>row_count</th>\n",
       "    </tr>\n",
       "  </thead>\n",
       "  <tbody>\n",
       "    <tr>\n",
       "      <th>0</th>\n",
       "      <td>arXiv</td>\n",
       "      <td>5972</td>\n",
       "    </tr>\n",
       "  </tbody>\n",
       "</table>\n",
       "</div>"
      ],
      "text/plain": [
       "  source  row_count\n",
       "0  arXiv       5972"
      ]
     },
     "metadata": {},
     "output_type": "display_data"
    },
    {
     "name": "stdout",
     "output_type": "stream",
     "text": [
      "0_bio_med.csv (16663, 6)\n"
     ]
    },
    {
     "data": {
      "text/html": [
       "<div>\n",
       "<style scoped>\n",
       "    .dataframe tbody tr th:only-of-type {\n",
       "        vertical-align: middle;\n",
       "    }\n",
       "\n",
       "    .dataframe tbody tr th {\n",
       "        vertical-align: top;\n",
       "    }\n",
       "\n",
       "    .dataframe thead th {\n",
       "        text-align: right;\n",
       "    }\n",
       "</style>\n",
       "<table border=\"1\" class=\"dataframe\">\n",
       "  <thead>\n",
       "    <tr style=\"text-align: right;\">\n",
       "      <th></th>\n",
       "      <th>source</th>\n",
       "      <th>row_count</th>\n",
       "    </tr>\n",
       "  </thead>\n",
       "  <tbody>\n",
       "    <tr>\n",
       "      <th>0</th>\n",
       "      <td>biorxiv</td>\n",
       "      <td>11213</td>\n",
       "    </tr>\n",
       "    <tr>\n",
       "      <th>1</th>\n",
       "      <td>medrxiv</td>\n",
       "      <td>5450</td>\n",
       "    </tr>\n",
       "  </tbody>\n",
       "</table>\n",
       "</div>"
      ],
      "text/plain": [
       "    source  row_count\n",
       "0  biorxiv      11213\n",
       "1  medrxiv       5450"
      ]
     },
     "metadata": {},
     "output_type": "display_data"
    },
    {
     "name": "stdout",
     "output_type": "stream",
     "text": [
      "0_ncbi.csv (34923, 5)\n"
     ]
    },
    {
     "data": {
      "text/html": [
       "<div>\n",
       "<style scoped>\n",
       "    .dataframe tbody tr th:only-of-type {\n",
       "        vertical-align: middle;\n",
       "    }\n",
       "\n",
       "    .dataframe tbody tr th {\n",
       "        vertical-align: top;\n",
       "    }\n",
       "\n",
       "    .dataframe thead th {\n",
       "        text-align: right;\n",
       "    }\n",
       "</style>\n",
       "<table border=\"1\" class=\"dataframe\">\n",
       "  <thead>\n",
       "    <tr style=\"text-align: right;\">\n",
       "      <th></th>\n",
       "      <th>source</th>\n",
       "      <th>row_count</th>\n",
       "    </tr>\n",
       "  </thead>\n",
       "  <tbody>\n",
       "    <tr>\n",
       "      <th>0</th>\n",
       "      <td>PubMed</td>\n",
       "      <td>34923</td>\n",
       "    </tr>\n",
       "  </tbody>\n",
       "</table>\n",
       "</div>"
      ],
      "text/plain": [
       "   source  row_count\n",
       "0  PubMed      34923"
      ]
     },
     "metadata": {},
     "output_type": "display_data"
    },
    {
     "name": "stdout",
     "output_type": "stream",
     "text": [
      "Initial number of rows: 57558\n",
      "Final number of rows after cleaning: 57558\n"
     ]
    },
    {
     "data": {
      "text/plain": [
       "(57558, 57558, '0_all.csv')"
      ]
     },
     "execution_count": 19,
     "metadata": {},
     "output_type": "execute_result"
    }
   ],
   "source": [
    "# Call the function with specified directory and file list\n",
    "file_list = [\n",
    "    '0_arxiv.csv', \n",
    "    '0_bio_med.csv', \n",
    "    '0_ncbi.csv']\n",
    "process_all_files(directory_path=DATA_DIR , file_list=file_list)"
   ]
  },
  {
   "cell_type": "markdown",
   "id": "d75c26bd",
   "metadata": {},
   "source": [
    "## Terms"
   ]
  },
  {
   "cell_type": "code",
   "execution_count": 1,
   "id": "2c69c36f",
   "metadata": {},
   "outputs": [],
   "source": [
    "from utils_fetch import query_terms_list"
   ]
  },
  {
   "cell_type": "code",
   "execution_count": 2,
   "id": "8d3fa75c",
   "metadata": {},
   "outputs": [
    {
     "name": "stdout",
     "output_type": "stream",
     "text": [
      "LLM, large language model, NLP, natural language processing, GPT, chatGPT, transformer, BERT, Bidirectional Encoder Representation, RAG, retrieval-augmented generation, retrieval augmented generation, generative AI, AI assistant, prompt, chatbot, prompt engineering, attention mechanism, chain-of-thought, chain of thought\n",
      "\n",
      "genomic, genetic, inherited, hereditary, heredity, inheritance, heritability, disease subtype, NGS, next-generation sequencing, next generation sequencing, genome sequencing, phenotype description, variant interpretation, complex trait, medicine, medical, diagnosis, diagnostic, clinical, clinical decision, syndrome\n",
      "\n"
     ]
    }
   ],
   "source": [
    "for a in query_terms_list:\n",
    "    print(\", \".join(a), end='\\n\\n')"
   ]
  },
  {
   "cell_type": "code",
   "execution_count": null,
   "id": "995bd427",
   "metadata": {},
   "outputs": [],
   "source": []
  }
 ],
 "metadata": {
  "kernelspec": {
   "display_name": "Python 3 (ipykernel)",
   "language": "python",
   "name": "python3"
  },
  "language_info": {
   "codemirror_mode": {
    "name": "ipython",
    "version": 3
   },
   "file_extension": ".py",
   "mimetype": "text/x-python",
   "name": "python",
   "nbconvert_exporter": "python",
   "pygments_lexer": "ipython3",
   "version": "3.11.5"
  }
 },
 "nbformat": 4,
 "nbformat_minor": 5
}
