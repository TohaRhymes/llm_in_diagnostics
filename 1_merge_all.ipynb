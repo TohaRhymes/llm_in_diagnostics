{
 "cells": [
  {
   "cell_type": "code",
   "execution_count": null,
   "id": "340dbb0c",
   "metadata": {},
   "outputs": [],
   "source": [
    "import os\n",
    "import pandas as pd"
   ]
  },
  {
   "cell_type": "code",
   "execution_count": null,
   "id": "42079984",
   "metadata": {},
   "outputs": [],
   "source": [
    "def process_arxiv_files(directory_path='./data', file_list=None, output_file='0_all.csv'):\n",
    "\n",
    "    if file_list is None:\n",
    "        return \"No file list provided.\"\n",
    "\n",
    "    # Initialize an empty list to store dataframes\n",
    "    dfs = []\n",
    "\n",
    "    # Iterate over provided file list\n",
    "    for file in file_list:\n",
    "        file_path = os.path.join(directory_path, file)\n",
    "        \n",
    "        # Read CSV, handle unnamed first column (either index or not)\n",
    "        df = pd.read_csv(file_path)\n",
    "        \n",
    "        # Check if the first column is unnamed (index) and drop it if necessary\n",
    "        if df.columns[0] == 'Unnamed: 0':\n",
    "            df.set_index(df.columns[0], inplace=True)\n",
    "\n",
    "        dfs.append(df)\n",
    "\n",
    "    # Concatenate all the DataFrames into one\n",
    "    combined_df = pd.concat(dfs, ignore_index=True)\n",
    "\n",
    "    # Get initial number of rows\n",
    "    initial_row_count = len(combined_df)\n",
    "    print(f\"Initial number of rows: {initial_row_count}\")\n",
    "\n",
    "    # Drop NaN values and duplicates\n",
    "    combined_df.drop_duplicates(inplace=True)\n",
    "\n",
    "    # Get final number of rows after cleaning\n",
    "    final_row_count = len(combined_df)\n",
    "    print(f\"Final number of rows after cleaning: {final_row_count}\")\n",
    "\n",
    "    # Save the final DataFrame to a CSV file\n",
    "    combined_df.to_csv(os.path.join(directory_path, output_file), index=False)\n",
    "\n",
    "    return initial_row_count, final_row_count, output_file"
   ]
  },
  {
   "cell_type": "code",
   "execution_count": null,
   "id": "e191d257",
   "metadata": {},
   "outputs": [],
   "source": [
    "# Call the function with specified directory and file list\n",
    "file_list = [\n",
    "    '0_arxiv_unique.csv', \n",
    "    '0_bio_med.csv', \n",
    "    '0_ncbi.csv']\n",
    "process_arxiv_files(directory_path='./data', file_list=file_list)"
   ]
  }
 ],
 "metadata": {
  "kernelspec": {
   "display_name": "Python 3 (ipykernel)",
   "language": "python",
   "name": "python3"
  },
  "language_info": {
   "codemirror_mode": {
    "name": "ipython",
    "version": 3
   },
   "file_extension": ".py",
   "mimetype": "text/x-python",
   "name": "python",
   "nbconvert_exporter": "python",
   "pygments_lexer": "ipython3",
   "version": "3.11.5"
  }
 },
 "nbformat": 4,
 "nbformat_minor": 5
}
