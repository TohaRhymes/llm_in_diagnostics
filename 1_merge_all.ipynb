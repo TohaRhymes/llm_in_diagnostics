{
 "cells": [
  {
   "cell_type": "code",
   "execution_count": 23,
   "id": "340dbb0c",
   "metadata": {},
   "outputs": [],
   "source": [
    "import os\n",
    "import pandas as pd"
   ]
  },
  {
   "cell_type": "code",
   "execution_count": 24,
   "id": "42079984",
   "metadata": {},
   "outputs": [],
   "source": [
    "def process_arxiv_files(\n",
    "    directory_path=\"./\",\n",
    "    starts_with=\"0_arxiv_\",\n",
    "    ends_with=\".csv\",\n",
    "    output_file=\"0_arxiv.csv\",\n",
    "):\n",
    "    # Get a list of all files that match the pattern\n",
    "    file_list = [\n",
    "        file\n",
    "        for file in os.listdir(directory_path)\n",
    "        if file.startswith(starts_with) and file.endswith(ends_with)\n",
    "    ]\n",
    "\n",
    "    # If no files found, return a message\n",
    "    if not file_list:\n",
    "        return \"No files found matching the pattern.\"\n",
    "\n",
    "    # Read all the CSV files and set the first column as the index\n",
    "    dfs = [\n",
    "        pd.read_csv(os.path.join(directory_path, file), index_col=0)\n",
    "        for file in file_list\n",
    "    ]\n",
    "\n",
    "    # Concatenate all the DataFrames into one\n",
    "    combined_df = pd.concat(dfs, ignore_index=True)\n",
    "\n",
    "    # Get initial number of rows\n",
    "    initial_row_count = len(combined_df)\n",
    "    print(f\"Initial number of rows: {initial_row_count}\")\n",
    "\n",
    "    # Drop NaN values and duplicates\n",
    "    combined_df.drop_duplicates(inplace=True)\n",
    "\n",
    "    # Get final number of rows after cleaning\n",
    "    final_row_count = len(combined_df)\n",
    "    print(f\"Final number of rows after cleaning: {final_row_count}\")\n",
    "\n",
    "    # Save the final DataFrame to a CSV file\n",
    "    combined_df.to_csv(output_file, index=False)\n",
    "\n",
    "    return initial_row_count, final_row_count, output_file\n",
    "\n",
    "\n",
    "def process_all_files(directory_path=\"./data\", file_list=None, output_file=\"0_all.csv\"):\n",
    "    if file_list is None:\n",
    "        return \"No file list provided.\"\n",
    "\n",
    "    # Initialize an empty list to store dataframes\n",
    "    dfs = []\n",
    "\n",
    "    # Iterate over provided file list\n",
    "    for file in file_list:\n",
    "        file_path = os.path.join(directory_path, file)\n",
    "\n",
    "        # Read CSV, handle unnamed first column (either index or not)\n",
    "        df = pd.read_csv(file_path)\n",
    "\n",
    "        # Check if the first column is unnamed (index) and drop it if necessary\n",
    "        if df.columns[0] == \"Unnamed: 0\":\n",
    "            df.set_index(df.columns[0], inplace=True)\n",
    "\n",
    "        dfs.append(df)\n",
    "\n",
    "    # Concatenate all the DataFrames into one\n",
    "    combined_df = pd.concat(dfs, ignore_index=True)\n",
    "\n",
    "    # Get initial number of rows\n",
    "    initial_row_count = len(combined_df)\n",
    "    print(f\"Initial number of rows: {initial_row_count}\")\n",
    "\n",
    "    # Drop NaN values and duplicates\n",
    "    combined_df.drop_duplicates(inplace=True)\n",
    "\n",
    "    # Get final number of rows after cleaning\n",
    "    final_row_count = len(combined_df)\n",
    "    print(f\"Final number of rows after cleaning: {final_row_count}\")\n",
    "\n",
    "    # Save the final DataFrame to a CSV file\n",
    "    combined_df.to_csv(os.path.join(directory_path, output_file), index=False)\n",
    "\n",
    "    return initial_row_count, final_row_count, output_file"
   ]
  },
  {
   "cell_type": "markdown",
   "id": "05e35bf2",
   "metadata": {},
   "source": [
    "Since arxiv have limits of `1000` returned articles per query, sometimes, you need to specify queries (as it's implemented шт `0_fetch_arxiv.py`, however, if not everything was launched in one time, we can merge it afterwards:"
   ]
  },
  {
   "cell_type": "code",
   "execution_count": 25,
   "id": "172d559e",
   "metadata": {},
   "outputs": [],
   "source": [
    "from utils_fetch import start_date, end_date, query_terms_list, year_list, DATA_DIR"
   ]
  },
  {
   "cell_type": "code",
   "execution_count": 26,
   "id": "296d856c",
   "metadata": {},
   "outputs": [
    {
     "data": {
      "text/plain": [
       "'data/'"
      ]
     },
     "execution_count": 26,
     "metadata": {},
     "output_type": "execute_result"
    }
   ],
   "source": [
    "DATA_DIR"
   ]
  },
  {
   "cell_type": "code",
   "execution_count": 27,
   "id": "6a552d43",
   "metadata": {},
   "outputs": [
    {
     "name": "stdout",
     "output_type": "stream",
     "text": [
      "Initial number of rows: 681453\n",
      "Final number of rows after cleaning: 5972\n"
     ]
    },
    {
     "data": {
      "text/plain": [
       "(681453, 5972, 'data/0_arxiv.csv')"
      ]
     },
     "execution_count": 27,
     "metadata": {},
     "output_type": "execute_result"
    }
   ],
   "source": [
    "# Call the function and return the result\n",
    "process_arxiv_files(directory_path=DATA_DIR, \n",
    "                    starts_with='0_arxiv_', \n",
    "                    ends_with = '.csv',\n",
    "                    output_file=os.path.join(DATA_DIR, '0_arxiv.csv'))"
   ]
  },
  {
   "cell_type": "code",
   "execution_count": 28,
   "id": "e191d257",
   "metadata": {},
   "outputs": [
    {
     "name": "stdout",
     "output_type": "stream",
     "text": [
      "Initial number of rows: 57631\n",
      "Final number of rows after cleaning: 57558\n"
     ]
    },
    {
     "data": {
      "text/plain": [
       "(57631, 57558, '0_all.csv')"
      ]
     },
     "execution_count": 28,
     "metadata": {},
     "output_type": "execute_result"
    }
   ],
   "source": [
    "# Call the function with specified directory and file list\n",
    "file_list = [\n",
    "    '0_arxiv.csv', \n",
    "    '0_bio_med.csv', \n",
    "    '0_ncbi.csv']\n",
    "process_all_files(directory_path=DATA_DIR , file_list=file_list)"
   ]
  },
  {
   "cell_type": "code",
   "execution_count": null,
   "id": "d4180049",
   "metadata": {},
   "outputs": [],
   "source": []
  }
 ],
 "metadata": {
  "kernelspec": {
   "display_name": "Python 3 (ipykernel)",
   "language": "python",
   "name": "python3"
  },
  "language_info": {
   "codemirror_mode": {
    "name": "ipython",
    "version": 3
   },
   "file_extension": ".py",
   "mimetype": "text/x-python",
   "name": "python",
   "nbconvert_exporter": "python",
   "pygments_lexer": "ipython3",
   "version": "3.11.5"
  }
 },
 "nbformat": 4,
 "nbformat_minor": 5
}
